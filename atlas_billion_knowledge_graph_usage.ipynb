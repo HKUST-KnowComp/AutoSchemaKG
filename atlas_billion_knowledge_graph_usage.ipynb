{
 "cells": [
  {
   "cell_type": "markdown",
   "metadata": {},
   "source": [
    "# Hosting Large Knowledge Graphs with Neo4j Community Edition\n",
    "\n",
    "This notebook demonstrates how to host and work with large knowledge graphs using Neo4j Community Edition.\n",
    "\n",
    "## Setup Instructions\n",
    "\n",
    "1. Download and install Neo4j Community Edition (CE) using the provided script:\n",
    "   - Run `cd neo4j_scripts` and `sh get_neo4j_cc.sh` which will:\n",
    "     - Download Neo4j CE\n",
    "     - Install required plugins (APOC, GDS)\n",
    "     - Configure ports and passwords\n",
    "     - Initialize the database\n",
    "\n",
    "Meanwhile, run `sh get_neo4j_pes2o.sh` and `sh get_neo4j_wiki.sh` as well\n",
    "\n",
    "2. Key Configuration Details:\n",
    "   - Default credentials:\n",
    "     - Username: neo4j\n",
    "     - Password: admin2024\n",
    "\n",
    "\n",
    "\n",
    "Copy the ```AutoschemaKG/neo4j_scripts/neo4j.conf``` file to the conf directory of the Neo4j server (```neo4j-server-dulce/conf```). Then, update the following settings as needed: 1.Set dbms.default_database to the desired dataset name, such as ```wiki-csv-json-text```, ```pes2o-csv-json-text```, or ```cc-csv-json-text```. \n",
    "\n",
    "2.Configure the Bolt, HTTP, and HTTPS connectors according to your requirements. If you want to run them together, you must set the port differently to avoid port confliction. \n"
   ]
  },
  {
   "cell_type": "markdown",
   "metadata": {},
   "source": [
    "# Import Data\n",
    "We use the admin import method to import data, which is the fastest way. Other methods are too slow for large graphs. You need to download the data from our one-drive [link](https://hkustconnect-my.sharepoint.com/:f:/g/personal/jbai_connect_ust_hk/EgJCqoU91KpAlSSOi6dzgccB6SCL4YBpsCyEtGiRBV4WNg): ATLAS Neo4j Dump. Please download all the zip files. You can run the `decompress_csv_files.sh` to decompress all the zips in parallel. decompress them to the ```decompressed``` directory. [Here](https://sushantag9.medium.com/download-data-from-onedrive-using-command-line-d27196a676d9) is the tutorial for downloading large files using onedrive. Suppose you have download the data into the following dir. You need to have enough disk to import the databases for these servers. \n",
    "\n",
    "Here is the space needed for the servers after import. Put the decompressed files into ```./import```\n",
    "```\n",
    "342G    ./neo4j-server-wiki\n",
    "907G    ./neo4j-server-cc\n",
    "249G    ./neo4j-server-pes2o\n",
    "2.3T    ./import \n",
    "```\n",
    "\n"
   ]
  },
  {
   "cell_type": "code",
   "execution_count": 1,
   "metadata": {},
   "outputs": [
    {
     "name": "stderr",
     "output_type": "stream",
     "text": [
      "/home/jbai/miniconda3/envs/autoschemakg/lib/python3.12/site-packages/tqdm/auto.py:21: TqdmWarning: IProgress not found. Please update jupyter and ipywidgets. See https://ipywidgets.readthedocs.io/en/stable/user_install.html\n",
      "  from .autonotebook import tqdm as notebook_tqdm\n",
      "/home/jbai/AutoSchemaKG/atlas_rag/billion/prompt_template.py:27: SyntaxWarning: invalid escape sequence '\\('\n",
      "  \"content\": \"[[ ## question ## ]]\\nSolve \\(x^2 - 5x + 6 = 0\\).\"\n",
      "/home/jbai/AutoSchemaKG/atlas_rag/billion/prompt_template.py:167: SyntaxWarning: invalid escape sequence '\\('\n",
      "  \"content\": \"\"\"[[ ## question ## ]]\n"
     ]
    }
   ],
   "source": [
    "# We need to add numeric ids to these csv files before loading them into database.\n",
    "# We need to use this because we will use an externam faiss index. We do not use the built-in vector index in neo4j\n",
    "# because it cannot support billion level vectors well.\n",
    "\n",
    "from atlas_rag.utils.csv_add_column import add_csv_columns\n",
    "\n",
    "decompressed_dir = \"/data/jbai/autoschema_servers/import\" \n",
    "for filename_pattern in [\"cc_en\", \"en_simple_wiki_v0\", \"pes2o_abstract\"]:     \n",
    "    add_csv_columns(\n",
    "                node_csv=f\"{decompressed_dir}/triple_nodes_{filename_pattern}_from_json_without_emb.csv\",\n",
    "                edge_csv=f\"{decompressed_dir}/triple_edges_{filename_pattern}_from_json_without_emb_full_concept.csv\",\n",
    "                text_csv=f\"{decompressed_dir}/text_nodes_{filename_pattern}_from_json.csv\",\n",
    "                node_with_numeric_id=f\"{decompressed_dir}/triple_nodes_{filename_pattern}_from_json_without_emb_with_numeric_id.csv\",\n",
    "                edge_with_numeric_id=f\"{decompressed_dir}/triple_edges_{filename_pattern}_from_json_without_emb_full_concept_with_numeric_id.csv\",\n",
    "                text_with_numeric_id=f\"{decompressed_dir}/text_nodes_{filename_pattern}_from_json_with_numeric_id.csv\",\n",
    "    )"
   ]
  },
  {
   "cell_type": "markdown",
   "metadata": {},
   "source": [
    "\n",
    "For the wiki\n",
    "\n",
    "``` shell\n",
    "./neo4j-server-wiki/bin/neo4j-admin database import full wiki-csv-json-text \\\n",
    "    --nodes=./import/text_nodes_en_simple_wiki_v0_from_json_with_numeric_id.csv \\\n",
    "    ./import/triple_nodes_en_simple_wiki_v0_from_json_without_emb_with_numeric_id.csv \\\n",
    "    ./import/concept_nodes_en_simple_wiki_v0_from_json_without_emb.csv \\\n",
    "    --relationships=./import/text_edges_en_simple_wiki_v0_from_json.csv \\\n",
    "    ./import/triple_edges_en_simple_wiki_v0_from_json_without_emb_full_concept_with_numeric_id.csv \\\n",
    "    ./import/concept_edges_en_simple_wiki_v0_from_json_without_emb.csv \\\n",
    "    --overwrite-destination \\\n",
    "    --multiline-fields=true \\\n",
    "    --id-type=string \\\n",
    "    --verbose --skip-bad-relationships=true\n",
    "```\n",
    "\n",
    "For the pes2o\n",
    "``` shell\n",
    "\n",
    "./neo4j-server-pes2o/bin/neo4j-admin database import full pes2o-csv-json-text \\\n",
    "    --nodes=./import/text_nodes_pes2o_abstract_from_json_with_numeric_id.csv \\\n",
    "    ./import/triple_nodes_pes2o_abstract_from_json_without_emb_with_numeric_id.csv \\\n",
    "    ./import/concept_nodes_pes2o_abstract_from_json_without_emb.csv \\\n",
    "    --relationships=./import/text_edges_pes2o_abstract_from_json.csv  \\\n",
    "    ./import/triple_edges_pes2o_abstract_from_json_without_emb_full_concept_with_numeric_id.csv \\\n",
    "     ./import/concept_edges_pes2o_abstract_from_json_without_emb.csv  \\\n",
    "    --overwrite-destination \\\n",
    "    --multiline-fields=true \\\n",
    "    --verbose --skip-bad-relationships=true --bad-tolerance=100000\n",
    "```\n",
    "\n",
    "For the cc\n",
    "``` shell\n",
    "./neo4j-server-cc/bin/neo4j-admin database import full cc-csv-json-text \\\n",
    "    --nodes=./import/text_nodes_cc_en_from_json_with_numeric_id.csv \\\n",
    "    ./import/triple_nodes_cc_en_from_json_without_emb_with_numeric_id.csv \\\n",
    "    ./import/concept_nodes_cc_en_from_json_without_emb.csv \\\n",
    "    --relationships=./import/text_edges_cc_en_from_json.csv \\\n",
    "    ./import/triple_edges_cc_en_from_json_without_emb_full_concept_with_numeric_id.csv \\\n",
    "    ./import/concept_edges_cc_en_from_json_without_emb.csv\\\n",
    "    --overwrite-destination \\\n",
    "    --multiline-fields=true \\\n",
    "    --verbose --skip-bad-relationships=true\n",
    "\n",
    "```\n"
   ]
  },
  {
   "cell_type": "markdown",
   "metadata": {
    "vscode": {
     "languageId": "plaintext"
    }
   },
   "source": [
    "\n",
    "\n"
   ]
  },
  {
   "cell_type": "code",
   "execution_count": null,
   "metadata": {},
   "outputs": [],
   "source": []
  },
  {
   "cell_type": "code",
   "execution_count": null,
   "metadata": {},
   "outputs": [],
   "source": []
  },
  {
   "cell_type": "code",
   "execution_count": null,
   "metadata": {},
   "outputs": [],
   "source": []
  }
 ],
 "metadata": {
  "kernelspec": {
   "display_name": "autoschemakg",
   "language": "python",
   "name": "python3"
  },
  "language_info": {
   "codemirror_mode": {
    "name": "ipython",
    "version": 3
   },
   "file_extension": ".py",
   "mimetype": "text/x-python",
   "name": "python",
   "nbconvert_exporter": "python",
   "pygments_lexer": "ipython3",
   "version": "3.12.9"
  }
 },
 "nbformat": 4,
 "nbformat_minor": 2
}
