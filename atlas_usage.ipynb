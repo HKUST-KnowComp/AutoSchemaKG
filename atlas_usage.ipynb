{
 "cells": [
  {
   "cell_type": "markdown",
   "metadata": {},
   "source": [
    "# Hosting Large Knowledge Graphs with Neo4j Community Edition\n",
    "\n",
    "This notebook demonstrates how to host and work with large knowledge graphs using Neo4j Community Edition.\n",
    "\n",
    "## Setup Instructions\n",
    "\n",
    "1. Download and install Neo4j Community Edition (CE) using the provided script:\n",
    "   - Run `neo4j_scripts/get_neo4j_cc.sh` which will:\n",
    "     - Download Neo4j CE\n",
    "     - Install required plugins (APOC, GDS)\n",
    "     - Configure ports and passwords\n",
    "     - Initialize the database\n",
    "\n",
    "2. Key Configuration Details:\n",
    "   - Default ports:\n",
    "     - Bolt: 8612\n",
    "     - HTTP: 7612 \n",
    "     - HTTPS: 7781 (disabled by default)\n",
    "   - Default credentials:\n",
    "     - Username: neo4j\n",
    "     - Password: admin2024\n",
    "\n",
    "## Loading Knowledge Graphs\n",
    "\n",
    "The Neo4j instance is configured to handle:\n",
    "- Large knowledge graphs\n",
    "\n",
    "## Usage Notes\n",
    "- Consider index creation for better query performance\n",
    "\n",
    "For detailed examples of loading and querying specific knowledge graphs, see the code cells below."
   ]
  },
  {
   "cell_type": "markdown",
   "metadata": {},
   "source": []
  },
  {
   "cell_type": "code",
   "execution_count": null,
   "metadata": {
    "vscode": {
     "languageId": "plaintext"
    }
   },
   "outputs": [],
   "source": []
  }
 ],
 "metadata": {
  "language_info": {
   "name": "python"
  }
 },
 "nbformat": 4,
 "nbformat_minor": 2
}
